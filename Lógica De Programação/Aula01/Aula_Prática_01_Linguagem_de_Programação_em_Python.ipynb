{
  "cells": [
    {
      "attachments": {},
      "cell_type": "markdown",
      "metadata": {
        "id": "9rW5nEeKNcd0"
      },
      "source": [
        "#**NUMPY - 1º Abrindo a Documentação da Biblioteca**\n",
        "\n",
        "Procurar no motor de busca: NumPy\n",
        "\n",
        "Procurar docomentação básica para inciantes"
      ]
    },
    {
      "attachments": {},
      "cell_type": "markdown",
      "metadata": {
        "id": "7wlXoAX8Js75"
      },
      "source": [
        "# **NUMPY - 2º Qual a diferença entre NumPy e listas?\"**\n",
        "\n",
        "Comparar performance entre list e array::"
      ]
    },
    {
      "cell_type": "code",
      "execution_count": 1,
      "metadata": {
        "id": "SmW1fLwUMayC"
      },
      "outputs": [],
      "source": [
        "import numpy as np\n",
        "num_elementos = 1000000000\n",
        "teste_memoria_lista = []\n",
        "# for x in range (num_elementos):\n",
        "#   teste_memoria_lista.append(num_elementos)\n",
        "\n",
        "teste_memoria_array = np.arange(num_elementos) "
      ]
    },
    {
      "attachments": {},
      "cell_type": "markdown",
      "metadata": {
        "id": "PFSK4lR-IG9e"
      },
      "source": [
        "#**NUMPY - 3º Criar um arrays simples com numpy**\n",
        "\n",
        "Utilizar:\n",
        "\n",
        ".array/.zeros/.ones/.empty/.arrange/.linespace"
      ]
    },
    {
      "cell_type": "code",
      "execution_count": 2,
      "metadata": {
        "id": "l6du_24UNu5T"
      },
      "outputs": [
        {
          "name": "stdout",
          "output_type": "stream",
          "text": [
            "Array criado com o método .array\n",
            "[2 3 4]\n",
            "Array criado com o método .zeros\n",
            "[0. 0. 0. 0. 0. 0. 0. 0. 0. 0.]\n",
            "Array criado com o método .ones\n",
            "[1. 1. 1. 1. 1. 1. 1. 1. 1. 1.]\n",
            "Array criado com o método .empty\n",
            "[1. 1. 1. 1. 1. 1. 1. 1. 1. 1.]\n",
            "Array criado com o método .arange\n",
            "[0 1 2 3 4 5 6 7 8 9]\n",
            "Array criado com o método .linespace\n",
            "[ 0.  2.  4.  6.  8. 10. 12. 14. 16. 18. 20. 22. 24. 26. 28. 30. 32. 34.\n",
            " 36. 38. 40.]\n"
          ]
        }
      ],
      "source": [
        "import numpy as np\n",
        "\n",
        "print(\"Array criado com o método .array\") \n",
        "print(np.array([2,3,4]))\n",
        "print(\"Array criado com o método .zeros\") \n",
        "print(np.zeros(10))\n",
        "print(\"Array criado com o método .ones\") \n",
        "print(np.ones(10))\n",
        "print(\"Array criado com o método .empty\") \n",
        "print(np.empty(10))\n",
        "print(\"Array criado com o método .arange\") \n",
        "print(np.arange(10))\n",
        "print(\"Array criado com o método .linespace\") \n",
        "print(np.linspace(0,40, num = 21))"
      ]
    },
    {
      "attachments": {},
      "cell_type": "markdown",
      "metadata": {
        "id": "jPvEEE9fQAM5"
      },
      "source": [
        "#**NUMPY - 4º A importância de se definir os tipo de dado**\n",
        "\n",
        "COMPARAR PERFORMANCE INT8 com FLOAT64"
      ]
    },
    {
      "cell_type": "code",
      "execution_count": 3,
      "metadata": {
        "colab": {
          "base_uri": "https://localhost:8080/"
        },
        "id": "hxWkUwziQKbO",
        "outputId": "f6cb8903-cde5-4507-9c34-a6911477a490"
      },
      "outputs": [
        {
          "name": "stdout",
          "output_type": "stream",
          "text": [
            "[1 1 1 ... 1 1 1]\n"
          ]
        }
      ],
      "source": [
        "import numpy as np\n",
        "num_elementos = 1000000000\n",
        "# teste_performance = np.ones(num_elementos)\n",
        "teste_performance = np.ones(num_elementos, dtype = np.int8)\n",
        "print(teste_performance)"
      ]
    },
    {
      "attachments": {},
      "cell_type": "markdown",
      "metadata": {
        "id": "_SzlQYa2XvZl"
      },
      "source": [
        "#**NUMPY - 5º Criando um vetor de números randômicos**"
      ]
    },
    {
      "cell_type": "code",
      "execution_count": 4,
      "metadata": {
        "id": "jQ-TPjAaX4AM"
      },
      "outputs": [
        {
          "name": "stdout",
          "output_type": "stream",
          "text": [
            "[0.2943053  0.89963442 0.61777695]\n"
          ]
        }
      ],
      "source": [
        "import numpy as np\n",
        "rng = np.random.default_rng()\n",
        "print(rng.random(3))"
      ]
    },
    {
      "attachments": {},
      "cell_type": "markdown",
      "metadata": {
        "id": "hk3dpWHIUO40"
      },
      "source": [
        "#**NUMPY - 6º Vetor vs Matriz vs Tensor**"
      ]
    },
    {
      "cell_type": "code",
      "execution_count": 5,
      "metadata": {
        "colab": {
          "base_uri": "https://localhost:8080/"
        },
        "id": "hYOFS_BlUNpq",
        "outputId": "a8e56bdc-3e0f-496e-a3cd-c8781e84a83e"
      },
      "outputs": [
        {
          "name": "stdout",
          "output_type": "stream",
          "text": [
            "\n",
            "\n",
            "Este é um vetor 1's de tamanho 10\n",
            "[0.59048267 0.67588083 0.67811516]\n",
            "\n",
            "\n",
            "Esta é uma matriz 1's de tamanho 10\n",
            "[[0.87024857 0.7188217  0.80646269]\n",
            " [0.91012274 0.43832168 0.95639758]\n",
            " [0.34595483 0.27241444 0.1228725 ]]\n",
            "\n",
            "\n",
            "Este é um tensor 1's de tamanho 10\n",
            "[[[0.3695475  0.11783462 0.95538417]\n",
            "  [0.51708363 0.38754987 0.50710426]\n",
            "  [0.85549134 0.87396797 0.29773021]]\n",
            "\n",
            " [[0.05429097 0.27942646 0.31248953]\n",
            "  [0.53311    0.02771237 0.37948282]\n",
            "  [0.51480459 0.42596289 0.69910384]]\n",
            "\n",
            " [[0.93574234 0.32703368 0.40361999]\n",
            "  [0.41107559 0.38956718 0.98087605]\n",
            "  [0.56719279 0.0688883  0.11356838]]]\n"
          ]
        }
      ],
      "source": [
        "import numpy as np\n",
        "rng = np.random.default_rng()\n",
        "print(\"\\n\\nEste é um vetor 1's de tamanho 10\")\n",
        "vetor = rng.random((3))\n",
        "print(vetor)\n",
        "print(\"\\n\\nEsta é uma matriz 1's de tamanho 10\")\n",
        "matriz = rng.random((3,3))\n",
        "print(matriz)\n",
        "print(\"\\n\\nEste é um tensor 1's de tamanho 10\")\n",
        "tensor = rng.random((3,3,3))\n",
        "print(tensor)"
      ]
    },
    {
      "attachments": {},
      "cell_type": "markdown",
      "metadata": {
        "id": "Ljrsnga_Imk3"
      },
      "source": [
        "#**NUMPY - 7º Ordenar e Adicionar num array**\n",
        "\n",
        "\n"
      ]
    },
    {
      "cell_type": "code",
      "execution_count": 2,
      "metadata": {
        "colab": {
          "base_uri": "https://localhost:8080/"
        },
        "id": "9jFzBfB4NTyc",
        "outputId": "60cfb759-ebbd-4a27-860b-5216c4dc4180"
      },
      "outputs": [
        {
          "name": "stdout",
          "output_type": "stream",
          "text": [
            "\n",
            "Array SEM ordenação\n",
            "[[0.3423374  0.30695589 0.56321862]\n",
            " [0.39628385 0.32719344 0.29397759]]\n",
            "\n",
            "Array COM ordenação\n",
            "[[0.30695589 0.3423374  0.56321862]\n",
            " [0.29397759 0.32719344 0.39628385]]\n",
            "\n",
            "Array 2 tamanho 1 por 3\n",
            "[[0.94317546]\n",
            " [0.64388733]]\n",
            "\n",
            " 1º Maneira de concatenar entre arrays\n",
            "[[0.30695589 0.3423374  0.56321862 0.94317546]\n",
            " [0.29397759 0.32719344 0.39628385 0.64388733]]\n",
            "\n",
            " 2º Maneira de concatenar entre arrays\n",
            "[[0.30695589 0.3423374  0.56321862 0.94317546]\n",
            " [0.29397759 0.32719344 0.39628385 0.64388733]]\n"
          ]
        }
      ],
      "source": [
        "import numpy as np\n",
        "rng = np.random.default_rng()\n",
        "array_rng1 = rng.random((2,3))\n",
        "#Ordenação\n",
        "print(\"\\nArray SEM ordenação\")\n",
        "print(array_rng1)\n",
        "array_ordenado = np.sort(array_rng1)\n",
        "print(\"\\nArray COM ordenação\")\n",
        "print(array_ordenado)\n",
        "#Concatenação\n",
        "array_rng2 = rng.random((2,1))\n",
        "print(\"\\nArray 2 tamanho 1 por 3\")\n",
        "print(array_rng2)\n",
        "array_concatenado = np.concatenate((array_ordenado,array_rng2), axis=1)\n",
        "print(\"\\n 1º Maneira de concatenar entre arrays\")\n",
        "print(array_concatenado)\n",
        "\n",
        "array_concatenado2 = np.hstack((array_ordenado,array_rng2))\n",
        "print(\"\\n 2º Maneira de concatenar entre arrays\")\n",
        "print(array_concatenado2)"
      ]
    },
    {
      "attachments": {},
      "cell_type": "markdown",
      "metadata": {
        "id": "xINLRrWtX8Wy"
      },
      "source": [
        "#**NUMPY - 8 Como saber o formato de um array**"
      ]
    },
    {
      "cell_type": "code",
      "execution_count": 7,
      "metadata": {
        "id": "832KyFh7YqPr"
      },
      "outputs": [
        {
          "name": "stdout",
          "output_type": "stream",
          "text": [
            "[[[0.39842841 0.26521295 0.43601087 ... 0.60355522 0.43060557 0.92216021]\n",
            "  [0.15783249 0.03534512 0.49655728 ... 0.18624639 0.05477226 0.1861091 ]\n",
            "  [0.07277541 0.05689489 0.55344123 ... 0.16211814 0.44625952 0.39094277]\n",
            "  ...\n",
            "  [0.70643951 0.71670478 0.72963996 ... 0.22265662 0.16805519 0.3047643 ]\n",
            "  [0.62568714 0.3359426  0.92674112 ... 0.07105203 0.44479769 0.07516334]\n",
            "  [0.40744723 0.29481667 0.9265563  ... 0.35756933 0.36485624 0.77343317]]\n",
            "\n",
            " [[0.25859914 0.51843776 0.68683711 ... 0.97950235 0.57157009 0.40854311]\n",
            "  [0.26046218 0.79056975 0.39138889 ... 0.86680239 0.37487491 0.74010432]\n",
            "  [0.04266486 0.41336427 0.95917515 ... 0.51669817 0.3664584  0.55317784]\n",
            "  ...\n",
            "  [0.00938962 0.07356703 0.76471329 ... 0.58797035 0.4297475  0.67801353]\n",
            "  [0.92809535 0.59381085 0.04144937 ... 0.01449058 0.19131355 0.6085249 ]\n",
            "  [0.10534799 0.28499207 0.57445079 ... 0.66163029 0.8535575  0.56275341]]\n",
            "\n",
            " [[0.02763442 0.17184316 0.46725657 ... 0.70086969 0.63825856 0.40293301]\n",
            "  [0.7541731  0.22832355 0.02666172 ... 0.9727894  0.49203232 0.49325452]\n",
            "  [0.55400942 0.41992428 0.73798932 ... 0.17775067 0.0939963  0.3525392 ]\n",
            "  ...\n",
            "  [0.44699434 0.30416053 0.97734095 ... 0.7926004  0.06550717 0.53533149]\n",
            "  [0.3340879  0.32468184 0.24033841 ... 0.49410459 0.56876919 0.47021441]\n",
            "  [0.84926154 0.47331127 0.36386563 ... 0.807545   0.44446467 0.7943874 ]]\n",
            "\n",
            " ...\n",
            "\n",
            " [[0.68605732 0.49487236 0.91190979 ... 0.71361274 0.69560345 0.42991985]\n",
            "  [0.92711438 0.17871513 0.82344585 ... 0.22128572 0.86595058 0.94644453]\n",
            "  [0.01572069 0.40450547 0.02479781 ... 0.12645321 0.37699391 0.9658407 ]\n",
            "  ...\n",
            "  [0.11950087 0.70573872 0.7223385  ... 0.67865675 0.65408296 0.21011463]\n",
            "  [0.02750339 0.73243243 0.85471959 ... 0.72940207 0.23492105 0.71333542]\n",
            "  [0.62052982 0.84030567 0.60190188 ... 0.72213116 0.28441405 0.16961302]]\n",
            "\n",
            " [[0.47865575 0.39509232 0.69114803 ... 0.51021025 0.17257535 0.85022744]\n",
            "  [0.10252966 0.8123188  0.41503383 ... 0.56778514 0.14062813 0.10353252]\n",
            "  [0.19687124 0.54652491 0.32096885 ... 0.14172042 0.71370073 0.19690313]\n",
            "  ...\n",
            "  [0.65922548 0.8296331  0.92896607 ... 0.09257424 0.89010235 0.85273533]\n",
            "  [0.00440948 0.19614302 0.78170808 ... 0.4745962  0.01015411 0.07909279]\n",
            "  [0.50221566 0.95204468 0.7646422  ... 0.86938375 0.89529146 0.98197376]]\n",
            "\n",
            " [[0.24001529 0.44658384 0.00343789 ... 0.65965498 0.01517647 0.97174498]\n",
            "  [0.31288703 0.0209597  0.90522022 ... 0.55223303 0.48049577 0.92415881]\n",
            "  [0.95469185 0.73272756 0.41622972 ... 0.23932189 0.33877133 0.76848489]\n",
            "  ...\n",
            "  [0.72408272 0.41614501 0.73482726 ... 0.39397965 0.8056407  0.98681756]\n",
            "  [0.29969627 0.14845318 0.02696592 ... 0.98466195 0.48593918 0.89248416]\n",
            "  [0.38617226 0.34533863 0.04125544 ... 0.62345431 0.60361586 0.86886109]]]\n",
            "\n",
            "O número de dimensões\n",
            "3\n",
            "\n",
            "O número de elementos\n",
            "6624\n",
            "\n",
            "O formato do array\n",
            "(12, 23, 24)\n"
          ]
        }
      ],
      "source": [
        "import numpy as np\n",
        "rng = np.random.default_rng()\n",
        "array_rng1 = rng.random((12,23,24))\n",
        "print(array_rng1)\n",
        "\n",
        "\n",
        "print(\"\\nO número de dimensões\")\n",
        "print(array_rng1.ndim)\n",
        "print(\"\\nO número de elementos\")\n",
        "print(array_rng1.size)\n",
        "print(\"\\nO formato do array\")\n",
        "print(array_rng1.shape)"
      ]
    },
    {
      "attachments": {},
      "cell_type": "markdown",
      "metadata": {
        "id": "eghYQqfbe3_q"
      },
      "source": [
        "#**NUMPY - 9 Como mudar um formato de um array**\n",
        "reshape/flatten/hsplit/vsplit"
      ]
    },
    {
      "cell_type": "code",
      "execution_count": 3,
      "metadata": {
        "id": "XeQNkCxJpdUm"
      },
      "outputs": [
        {
          "name": "stdout",
          "output_type": "stream",
          "text": [
            "\n",
            "Array de 1 de dimensão\n",
            "[ 0  1  2  3  4  5  6  7  8  9 10 11 12 13 14 15 16 17 18 19]\n",
            "(20,)\n",
            "\n",
            "Array de 4 de dimensões\n",
            "[[ 0  1  2  3  4]\n",
            " [ 5  6  7  8  9]\n",
            " [10 11 12 13 14]\n",
            " [15 16 17 18 19]]\n",
            "(4, 5)\n",
            "\n",
            "Array de 1 de dimensões de novo\n",
            "[ 0  1  2  3  4  5  6  7  8  9 10 11 12 13 14 15 16 17 18 19]\n",
            "(20,)\n",
            "\n",
            " 4 Array de 1 dimensão e 5 elementos \n",
            "[array([0, 1, 2, 3]), array([4, 5, 6, 7]), array([ 8,  9, 10, 11]), array([12, 13, 14, 15]), array([16, 17, 18, 19])]\n",
            "[0 1 2 3]\n"
          ]
        }
      ],
      "source": [
        "import numpy as np\n",
        "x = np.arange(0,20)\n",
        "print(\"\\nArray de 1 de dimensão\")\n",
        "print(x)\n",
        "print(x.shape)\n",
        "\n",
        "print(\"\\nArray de 4 de dimensões\")\n",
        "x2 = np.reshape(x,(4,5))\n",
        "print(x2)\n",
        "print(x2.shape)\n",
        "\n",
        "print(\"\\nArray de 1 de dimensões de novo\")\n",
        "x3 = x2.flatten()\n",
        "print(x3)\n",
        "print(x3.shape)\n",
        "\n",
        "print(\"\\n 4 Array de 1 dimensão e 5 elementos \")\n",
        "x4= np.hsplit(x3,5)\n",
        "print(x4)\n",
        "print(x4[0])"
      ]
    },
    {
      "attachments": {},
      "cell_type": "markdown",
      "metadata": {
        "id": "NUErRWufuH29"
      },
      "source": [
        "#**NUMPY - 10º Operações Matemáticas com um array**\n",
        "soma/subtração/multiplicação/divisão\n",
        "\n",
        "sum/min/max"
      ]
    },
    {
      "cell_type": "code",
      "execution_count": 4,
      "metadata": {
        "id": "1gwQYwRquHOw"
      },
      "outputs": [
        {
          "name": "stdout",
          "output_type": "stream",
          "text": [
            "Array x\n",
            " [[1 2 3]\n",
            " [6 5 3]\n",
            " [9 9 9]]\n",
            "\n",
            "Somar  cada elemente com  2\n",
            " [[ 3  4  5]\n",
            " [ 8  7  5]\n",
            " [11 11 11]]\n",
            "\n",
            "Subtrair  cada elemente com  5\n",
            "[[-2 -1  0]\n",
            " [ 3  2  0]\n",
            " [ 6  6  6]]\n",
            "\n",
            "Multiplicar cada elemente por  4\n",
            "[[-8 -4  0]\n",
            " [12  8  0]\n",
            " [24 24 24]]\n",
            "\n",
            "Dividir cada elemente por  2\n",
            "[[-4. -2.  0.]\n",
            " [ 6.  4.  0.]\n",
            " [12. 12. 12.]]\n",
            "\n",
            "Array y: \n",
            "[[1 2 3]\n",
            " [4 5 6]\n",
            " [7 8 9]]\n",
            "\n",
            " Array w: \n",
            "[[-3.  0.  3.]\n",
            " [10.  9.  6.]\n",
            " [19. 20. 21.]]\n",
            "\n",
            " Array w: \n",
            "[[-4.         -1.          0.        ]\n",
            " [ 1.5         0.8         0.        ]\n",
            " [ 1.71428571  1.5         1.33333333]]\n",
            "\n",
            " Somatório na vertical y: \n",
            "[12 15 18]\n",
            "\n",
            " Somatório na horizontal y: \n",
            "[ 6 15 24]\n",
            "\n",
            " Somatório y: \n",
            "45\n",
            "\n",
            " Somatório y: \n",
            "1\n",
            "\n",
            " Somatório y: \n",
            "9\n"
          ]
        }
      ],
      "source": [
        "import numpy as np\n",
        "\n",
        "x = np.array([[1,2,3],[6,5,3],[9,9,9]])\n",
        "print(f\"Array x\\n {x}\")\n",
        "\n",
        "x = x + 2\n",
        "print(f\"\\nSomar  cada elemente com  2\\n {x}\")\n",
        "\n",
        "\n",
        "x = x - 5\n",
        "print(\"\\nSubtrair  cada elemente com  5\")\n",
        "print(x)\n",
        "\n",
        "\n",
        "x = x * 4\n",
        "print(\"\\nMultiplicar cada elemente por  4\")\n",
        "print(x)\n",
        "\n",
        "\n",
        "x = x / 2\n",
        "print(\"\\nDividir cada elemente por  2\")\n",
        "print(x)\n",
        "\n",
        "\n",
        "y = np.arange(1,10)\n",
        "y = np.reshape(y,(3,3))\n",
        "print(f\"\\nArray y: \\n{y}\")\n",
        "\n",
        "w = x + y\n",
        "print(f'\\n Array w: \\n{w}')\n",
        "\n",
        "w = x / y\n",
        "print(f'\\n Array w: \\n{w}')\n",
        "\n",
        "z = np.sum(y,axis=0)\n",
        "print(f'\\n Somatório na vertical y: \\n{z}')\n",
        "\n",
        "z = np.sum(y,axis=1)\n",
        "print(f'\\n Somatório na horizontal y: \\n{z}')\n",
        "\n",
        "z = np.sum(y)\n",
        "print(f'\\n Somatório y: \\n{z}')\n",
        "\n",
        "z = np.min(y)\n",
        "print(f'\\n Somatório y: \\n{z}')\n",
        "\n",
        "z = np.max(y)\n",
        "print(f'\\n Somatório y: \\n{z}')\n",
        "\n"
      ]
    },
    {
      "attachments": {},
      "cell_type": "markdown",
      "metadata": {
        "id": "wCFN2QmcdW4D"
      },
      "source": [
        "#**NUMPY - 11 Salvando um Array num Arquivo .txt**\n",
        "Parâmetros fmt, dtype, delimiter"
      ]
    },
    {
      "cell_type": "code",
      "execution_count": 10,
      "metadata": {
        "colab": {
          "base_uri": "https://localhost:8080/"
        },
        "id": "ZNbk3ce4dd_E",
        "outputId": "f2b8152c-7a90-4751-edab-763113e96d59"
      },
      "outputs": [
        {
          "name": "stdout",
          "output_type": "stream",
          "text": [
            "tensor 3x3x3:\n",
            " [[[ 0  1  2]\n",
            "  [ 3  4  5]\n",
            "  [ 6  7  8]]\n",
            "\n",
            " [[ 9 10 11]\n",
            "  [12 13 14]\n",
            "  [15 16 17]]\n",
            "\n",
            " [[18 19 20]\n",
            "  [21 22 23]\n",
            "  [24 25 26]]]\n",
            "\n",
            "vetor de 27 posições:\n",
            " [ 0  1  2  3  4  5  6  7  8  9 10 11 12 13 14 15 16 17 18 19 20 21 22 23\n",
            " 24 25 26]\n",
            "\n",
            "arquivo recuperado e carregado para dentro do programa:\n",
            " [ 0  1  2  3  4  5  6  7  8  9 10 11 12 13 14 15 16 17 18 19 20 21 22 23\n",
            " 24 25 26] \n",
            "com o seguinte tipo de dado: int8\n"
          ]
        }
      ],
      "source": [
        "import numpy as np\n",
        "\n",
        "x = np.arange(27)\n",
        "x = x.reshape((3,3,3))\n",
        "print(f'tensor 3x3x3:\\n {x}')\n",
        "\n",
        "y = x.flatten()\n",
        "print(f'\\nvetor de 27 posições:\\n {y}')\n",
        "np.savetxt('arrayTeste.txt', y,fmt= '%d', delimiter = ';')\n",
        "\n",
        "z= np.loadtxt('arrayTeste.txt',dtype = np.int8 ,delimiter = ';',)\n",
        "\n",
        "print(f'\\narquivo recuperado e carregado para dentro do programa:\\n {z} \\ncom o seguinte tipo de dado: {(z.dtype)}')"
      ]
    },
    {
      "attachments": {},
      "cell_type": "markdown",
      "metadata": {
        "id": "zel3E4zZFAOH"
      },
      "source": [
        "#**PLOTLY - 1º Abrindo a Documentação da Bilioteca**"
      ]
    },
    {
      "attachments": {},
      "cell_type": "markdown",
      "metadata": {
        "id": "-hnFT4YYFKjP"
      },
      "source": [
        "#**PLOTLY - 2º Criando arrays para montar os gráficos**"
      ]
    },
    {
      "cell_type": "code",
      "execution_count": 11,
      "metadata": {
        "id": "bBtSoftDDIcH"
      },
      "outputs": [],
      "source": [
        "import numpy as np\n",
        "\n",
        "a = 3/4;\n",
        "b = 2/4;\n",
        "c = 1/4;\n",
        "soma_a = np.ones(20);\n",
        "soma_b = np.ones(20);\n",
        "soma_c = np.ones(20);\n",
        "for i in range (1,soma_a.size):\n",
        "  soma_a[i] = soma_a[i-1] + a**i;\n",
        "  soma_b[i] = soma_b[i-1] + b**i;\n",
        "  soma_c[i] = soma_c[i-1] + c**i;\n",
        "\n",
        "np.savetxt('soma_a.txt', soma_a,fmt= '%f', delimiter = ';')\n",
        "np.savetxt('soma_b.txt', soma_b,fmt= '%f', delimiter = ';')\n",
        "np.savetxt('soma_c.txt', soma_c,fmt= '%f', delimiter = ';')\n",
        "\n"
      ]
    },
    {
      "attachments": {},
      "cell_type": "markdown",
      "metadata": {
        "id": "paPQgtSuv6U9"
      },
      "source": [
        "# **PLOTLY - 3º Recuperando arquivos e plotando o primeiro gráfico**"
      ]
    },
    {
      "cell_type": "code",
      "execution_count": 25,
      "metadata": {
        "colab": {
          "base_uri": "https://localhost:8080/",
          "height": 542
        },
        "id": "IdeyQfi3wQip",
        "outputId": "7a9bacd2-300d-4907-8672-d0291ae6c100"
      },
      "outputs": [
        {
          "ename": "ModuleNotFoundError",
          "evalue": "No module named 'plotly'",
          "output_type": "error",
          "traceback": [
            "\u001b[1;31m---------------------------------------------------------------------------\u001b[0m",
            "\u001b[1;31mModuleNotFoundError\u001b[0m                       Traceback (most recent call last)",
            "Cell \u001b[1;32mIn[25], line 2\u001b[0m\n\u001b[0;32m      1\u001b[0m \u001b[39mimport\u001b[39;00m \u001b[39mnumpy\u001b[39;00m \u001b[39mas\u001b[39;00m \u001b[39mnp\u001b[39;00m\n\u001b[1;32m----> 2\u001b[0m \u001b[39mimport\u001b[39;00m \u001b[39mplotly\u001b[39;00m\u001b[39m.\u001b[39;00m\u001b[39mexpress\u001b[39;00m\n\u001b[0;32m      3\u001b[0m array_a_axis_y \u001b[39m=\u001b[39m np\u001b[39m.\u001b[39mloadtxt(\u001b[39m\"\u001b[39m\u001b[39msoma_a.txt\u001b[39m\u001b[39m\"\u001b[39m,dtype\u001b[39m=\u001b[39mnp\u001b[39m.\u001b[39mfloat64, delimiter\u001b[39m=\u001b[39m \u001b[39m'\u001b[39m\u001b[39m;\u001b[39m\u001b[39m'\u001b[39m)\n\u001b[0;32m      4\u001b[0m fig \u001b[39m=\u001b[39m px\u001b[39m.\u001b[39mscatter(array_a_axis_y)\n",
            "\u001b[1;31mModuleNotFoundError\u001b[0m: No module named 'plotly'"
          ]
        }
      ],
      "source": [
        "import numpy as np\n",
        "import plotly.express as np\n",
        "array_a_axis_y = np.loadtxt(\"soma_a.txt\",dtype=np.float64, delimiter= ';')\n",
        "fig = px.scatter(array_a_axis_y)\n",
        "fig.show()"
      ]
    },
    {
      "attachments": {},
      "cell_type": "markdown",
      "metadata": {
        "id": "KVX_D2rv91eN"
      },
      "source": [
        "# **PLOTLY - 4º Recuperando arquivos e plotando os três gráficos gráfico**"
      ]
    },
    {
      "cell_type": "code",
      "execution_count": null,
      "metadata": {
        "colab": {
          "base_uri": "https://localhost:8080/",
          "height": 1000
        },
        "id": "i9JPLE-H-BLu",
        "outputId": "0066ad3d-7447-43b1-8855-f56c92632820"
      },
      "outputs": [
        {
          "name": "stdout",
          "output_type": "stream",
          "text": [
            "[[1.       1.75     2.3125   2.734375 3.050781 3.288086 3.466064 3.599548\n",
            "  3.699661 3.774746 3.831059 3.873295 3.904971 3.928728 3.946546 3.95991\n",
            "  3.969932 3.977449 3.983087 3.987315]\n",
            " [1.       1.5      1.75     1.875    1.9375   1.96875  1.984375 1.992188\n",
            "  1.996094 1.998047 1.999023 1.999512 1.999756 1.999878 1.999939 1.999969\n",
            "  1.999985 1.999992 1.999996 1.999998]\n",
            " [1.       1.25     1.3125   1.328125 1.332031 1.333008 1.333252 1.333313\n",
            "  1.333328 1.333332 1.333333 1.333333 1.333333 1.333333 1.333333 1.333333\n",
            "  1.333333 1.333333 1.333333 1.333333]]\n",
            "[[1.       1.       1.      ]\n",
            " [1.75     1.5      1.25    ]\n",
            " [2.3125   1.75     1.3125  ]\n",
            " [2.734375 1.875    1.328125]\n",
            " [3.050781 1.9375   1.332031]\n",
            " [3.288086 1.96875  1.333008]\n",
            " [3.466064 1.984375 1.333252]\n",
            " [3.599548 1.992188 1.333313]\n",
            " [3.699661 1.996094 1.333328]\n",
            " [3.774746 1.998047 1.333332]\n",
            " [3.831059 1.999023 1.333333]\n",
            " [3.873295 1.999512 1.333333]\n",
            " [3.904971 1.999756 1.333333]\n",
            " [3.928728 1.999878 1.333333]\n",
            " [3.946546 1.999939 1.333333]\n",
            " [3.95991  1.999969 1.333333]\n",
            " [3.969932 1.999985 1.333333]\n",
            " [3.977449 1.999992 1.333333]\n",
            " [3.983087 1.999996 1.333333]\n",
            " [3.987315 1.999998 1.333333]]\n"
          ]
        },
        {
          "data": {
            "text/html": [
              "<html>\n",
              "<head><meta charset=\"utf-8\" /></head>\n",
              "<body>\n",
              "    <div>            <script src=\"https://cdnjs.cloudflare.com/ajax/libs/mathjax/2.7.5/MathJax.js?config=TeX-AMS-MML_SVG\"></script><script type=\"text/javascript\">if (window.MathJax) {MathJax.Hub.Config({SVG: {font: \"STIX-Web\"}});}</script>                <script type=\"text/javascript\">window.PlotlyConfig = {MathJaxConfig: 'local'};</script>\n",
              "        <script src=\"https://cdn.plot.ly/plotly-2.8.3.min.js\"></script>                <div id=\"6eb6aa42-e5ca-4576-9452-ce1f9aecc2f5\" class=\"plotly-graph-div\" style=\"height:525px; width:100%;\"></div>            <script type=\"text/javascript\">                                    window.PLOTLYENV=window.PLOTLYENV || {};                                    if (document.getElementById(\"6eb6aa42-e5ca-4576-9452-ce1f9aecc2f5\")) {                    Plotly.newPlot(                        \"6eb6aa42-e5ca-4576-9452-ce1f9aecc2f5\",                        [{\"hovertemplate\":\"variable=0<br>index=%{x}<br>value=%{y}<extra></extra>\",\"legendgroup\":\"0\",\"line\":{\"color\":\"#636efa\",\"dash\":\"solid\"},\"marker\":{\"symbol\":\"circle\"},\"mode\":\"lines\",\"name\":\"0\",\"orientation\":\"v\",\"showlegend\":true,\"x\":[0,1,2,3,4,5,6,7,8,9,10,11,12,13,14,15,16,17,18,19],\"xaxis\":\"x\",\"y\":[1.0,1.75,2.3125,2.734375,3.050781,3.288086,3.466064,3.599548,3.699661,3.774746,3.831059,3.873295,3.904971,3.928728,3.946546,3.95991,3.969932,3.977449,3.983087,3.987315],\"yaxis\":\"y\",\"type\":\"scatter\"},{\"hovertemplate\":\"variable=1<br>index=%{x}<br>value=%{y}<extra></extra>\",\"legendgroup\":\"1\",\"line\":{\"color\":\"#EF553B\",\"dash\":\"solid\"},\"marker\":{\"symbol\":\"circle\"},\"mode\":\"lines\",\"name\":\"1\",\"orientation\":\"v\",\"showlegend\":true,\"x\":[0,1,2,3,4,5,6,7,8,9,10,11,12,13,14,15,16,17,18,19],\"xaxis\":\"x\",\"y\":[1.0,1.5,1.75,1.875,1.9375,1.96875,1.984375,1.992188,1.996094,1.998047,1.999023,1.999512,1.999756,1.999878,1.999939,1.999969,1.999985,1.999992,1.999996,1.999998],\"yaxis\":\"y\",\"type\":\"scatter\"},{\"hovertemplate\":\"variable=2<br>index=%{x}<br>value=%{y}<extra></extra>\",\"legendgroup\":\"2\",\"line\":{\"color\":\"#00cc96\",\"dash\":\"solid\"},\"marker\":{\"symbol\":\"circle\"},\"mode\":\"lines\",\"name\":\"2\",\"orientation\":\"v\",\"showlegend\":true,\"x\":[0,1,2,3,4,5,6,7,8,9,10,11,12,13,14,15,16,17,18,19],\"xaxis\":\"x\",\"y\":[1.0,1.25,1.3125,1.328125,1.332031,1.333008,1.333252,1.333313,1.333328,1.333332,1.333333,1.333333,1.333333,1.333333,1.333333,1.333333,1.333333,1.333333,1.333333,1.333333],\"yaxis\":\"y\",\"type\":\"scatter\"}],                        {\"template\":{\"data\":{\"bar\":[{\"error_x\":{\"color\":\"#2a3f5f\"},\"error_y\":{\"color\":\"#2a3f5f\"},\"marker\":{\"line\":{\"color\":\"#E5ECF6\",\"width\":0.5},\"pattern\":{\"fillmode\":\"overlay\",\"size\":10,\"solidity\":0.2}},\"type\":\"bar\"}],\"barpolar\":[{\"marker\":{\"line\":{\"color\":\"#E5ECF6\",\"width\":0.5},\"pattern\":{\"fillmode\":\"overlay\",\"size\":10,\"solidity\":0.2}},\"type\":\"barpolar\"}],\"carpet\":[{\"aaxis\":{\"endlinecolor\":\"#2a3f5f\",\"gridcolor\":\"white\",\"linecolor\":\"white\",\"minorgridcolor\":\"white\",\"startlinecolor\":\"#2a3f5f\"},\"baxis\":{\"endlinecolor\":\"#2a3f5f\",\"gridcolor\":\"white\",\"linecolor\":\"white\",\"minorgridcolor\":\"white\",\"startlinecolor\":\"#2a3f5f\"},\"type\":\"carpet\"}],\"choropleth\":[{\"colorbar\":{\"outlinewidth\":0,\"ticks\":\"\"},\"type\":\"choropleth\"}],\"contour\":[{\"colorbar\":{\"outlinewidth\":0,\"ticks\":\"\"},\"colorscale\":[[0.0,\"#0d0887\"],[0.1111111111111111,\"#46039f\"],[0.2222222222222222,\"#7201a8\"],[0.3333333333333333,\"#9c179e\"],[0.4444444444444444,\"#bd3786\"],[0.5555555555555556,\"#d8576b\"],[0.6666666666666666,\"#ed7953\"],[0.7777777777777778,\"#fb9f3a\"],[0.8888888888888888,\"#fdca26\"],[1.0,\"#f0f921\"]],\"type\":\"contour\"}],\"contourcarpet\":[{\"colorbar\":{\"outlinewidth\":0,\"ticks\":\"\"},\"type\":\"contourcarpet\"}],\"heatmap\":[{\"colorbar\":{\"outlinewidth\":0,\"ticks\":\"\"},\"colorscale\":[[0.0,\"#0d0887\"],[0.1111111111111111,\"#46039f\"],[0.2222222222222222,\"#7201a8\"],[0.3333333333333333,\"#9c179e\"],[0.4444444444444444,\"#bd3786\"],[0.5555555555555556,\"#d8576b\"],[0.6666666666666666,\"#ed7953\"],[0.7777777777777778,\"#fb9f3a\"],[0.8888888888888888,\"#fdca26\"],[1.0,\"#f0f921\"]],\"type\":\"heatmap\"}],\"heatmapgl\":[{\"colorbar\":{\"outlinewidth\":0,\"ticks\":\"\"},\"colorscale\":[[0.0,\"#0d0887\"],[0.1111111111111111,\"#46039f\"],[0.2222222222222222,\"#7201a8\"],[0.3333333333333333,\"#9c179e\"],[0.4444444444444444,\"#bd3786\"],[0.5555555555555556,\"#d8576b\"],[0.6666666666666666,\"#ed7953\"],[0.7777777777777778,\"#fb9f3a\"],[0.8888888888888888,\"#fdca26\"],[1.0,\"#f0f921\"]],\"type\":\"heatmapgl\"}],\"histogram\":[{\"marker\":{\"pattern\":{\"fillmode\":\"overlay\",\"size\":10,\"solidity\":0.2}},\"type\":\"histogram\"}],\"histogram2d\":[{\"colorbar\":{\"outlinewidth\":0,\"ticks\":\"\"},\"colorscale\":[[0.0,\"#0d0887\"],[0.1111111111111111,\"#46039f\"],[0.2222222222222222,\"#7201a8\"],[0.3333333333333333,\"#9c179e\"],[0.4444444444444444,\"#bd3786\"],[0.5555555555555556,\"#d8576b\"],[0.6666666666666666,\"#ed7953\"],[0.7777777777777778,\"#fb9f3a\"],[0.8888888888888888,\"#fdca26\"],[1.0,\"#f0f921\"]],\"type\":\"histogram2d\"}],\"histogram2dcontour\":[{\"colorbar\":{\"outlinewidth\":0,\"ticks\":\"\"},\"colorscale\":[[0.0,\"#0d0887\"],[0.1111111111111111,\"#46039f\"],[0.2222222222222222,\"#7201a8\"],[0.3333333333333333,\"#9c179e\"],[0.4444444444444444,\"#bd3786\"],[0.5555555555555556,\"#d8576b\"],[0.6666666666666666,\"#ed7953\"],[0.7777777777777778,\"#fb9f3a\"],[0.8888888888888888,\"#fdca26\"],[1.0,\"#f0f921\"]],\"type\":\"histogram2dcontour\"}],\"mesh3d\":[{\"colorbar\":{\"outlinewidth\":0,\"ticks\":\"\"},\"type\":\"mesh3d\"}],\"parcoords\":[{\"line\":{\"colorbar\":{\"outlinewidth\":0,\"ticks\":\"\"}},\"type\":\"parcoords\"}],\"pie\":[{\"automargin\":true,\"type\":\"pie\"}],\"scatter\":[{\"marker\":{\"colorbar\":{\"outlinewidth\":0,\"ticks\":\"\"}},\"type\":\"scatter\"}],\"scatter3d\":[{\"line\":{\"colorbar\":{\"outlinewidth\":0,\"ticks\":\"\"}},\"marker\":{\"colorbar\":{\"outlinewidth\":0,\"ticks\":\"\"}},\"type\":\"scatter3d\"}],\"scattercarpet\":[{\"marker\":{\"colorbar\":{\"outlinewidth\":0,\"ticks\":\"\"}},\"type\":\"scattercarpet\"}],\"scattergeo\":[{\"marker\":{\"colorbar\":{\"outlinewidth\":0,\"ticks\":\"\"}},\"type\":\"scattergeo\"}],\"scattergl\":[{\"marker\":{\"colorbar\":{\"outlinewidth\":0,\"ticks\":\"\"}},\"type\":\"scattergl\"}],\"scattermapbox\":[{\"marker\":{\"colorbar\":{\"outlinewidth\":0,\"ticks\":\"\"}},\"type\":\"scattermapbox\"}],\"scatterpolar\":[{\"marker\":{\"colorbar\":{\"outlinewidth\":0,\"ticks\":\"\"}},\"type\":\"scatterpolar\"}],\"scatterpolargl\":[{\"marker\":{\"colorbar\":{\"outlinewidth\":0,\"ticks\":\"\"}},\"type\":\"scatterpolargl\"}],\"scatterternary\":[{\"marker\":{\"colorbar\":{\"outlinewidth\":0,\"ticks\":\"\"}},\"type\":\"scatterternary\"}],\"surface\":[{\"colorbar\":{\"outlinewidth\":0,\"ticks\":\"\"},\"colorscale\":[[0.0,\"#0d0887\"],[0.1111111111111111,\"#46039f\"],[0.2222222222222222,\"#7201a8\"],[0.3333333333333333,\"#9c179e\"],[0.4444444444444444,\"#bd3786\"],[0.5555555555555556,\"#d8576b\"],[0.6666666666666666,\"#ed7953\"],[0.7777777777777778,\"#fb9f3a\"],[0.8888888888888888,\"#fdca26\"],[1.0,\"#f0f921\"]],\"type\":\"surface\"}],\"table\":[{\"cells\":{\"fill\":{\"color\":\"#EBF0F8\"},\"line\":{\"color\":\"white\"}},\"header\":{\"fill\":{\"color\":\"#C8D4E3\"},\"line\":{\"color\":\"white\"}},\"type\":\"table\"}]},\"layout\":{\"annotationdefaults\":{\"arrowcolor\":\"#2a3f5f\",\"arrowhead\":0,\"arrowwidth\":1},\"autotypenumbers\":\"strict\",\"coloraxis\":{\"colorbar\":{\"outlinewidth\":0,\"ticks\":\"\"}},\"colorscale\":{\"diverging\":[[0,\"#8e0152\"],[0.1,\"#c51b7d\"],[0.2,\"#de77ae\"],[0.3,\"#f1b6da\"],[0.4,\"#fde0ef\"],[0.5,\"#f7f7f7\"],[0.6,\"#e6f5d0\"],[0.7,\"#b8e186\"],[0.8,\"#7fbc41\"],[0.9,\"#4d9221\"],[1,\"#276419\"]],\"sequential\":[[0.0,\"#0d0887\"],[0.1111111111111111,\"#46039f\"],[0.2222222222222222,\"#7201a8\"],[0.3333333333333333,\"#9c179e\"],[0.4444444444444444,\"#bd3786\"],[0.5555555555555556,\"#d8576b\"],[0.6666666666666666,\"#ed7953\"],[0.7777777777777778,\"#fb9f3a\"],[0.8888888888888888,\"#fdca26\"],[1.0,\"#f0f921\"]],\"sequentialminus\":[[0.0,\"#0d0887\"],[0.1111111111111111,\"#46039f\"],[0.2222222222222222,\"#7201a8\"],[0.3333333333333333,\"#9c179e\"],[0.4444444444444444,\"#bd3786\"],[0.5555555555555556,\"#d8576b\"],[0.6666666666666666,\"#ed7953\"],[0.7777777777777778,\"#fb9f3a\"],[0.8888888888888888,\"#fdca26\"],[1.0,\"#f0f921\"]]},\"colorway\":[\"#636efa\",\"#EF553B\",\"#00cc96\",\"#ab63fa\",\"#FFA15A\",\"#19d3f3\",\"#FF6692\",\"#B6E880\",\"#FF97FF\",\"#FECB52\"],\"font\":{\"color\":\"#2a3f5f\"},\"geo\":{\"bgcolor\":\"white\",\"lakecolor\":\"white\",\"landcolor\":\"#E5ECF6\",\"showlakes\":true,\"showland\":true,\"subunitcolor\":\"white\"},\"hoverlabel\":{\"align\":\"left\"},\"hovermode\":\"closest\",\"mapbox\":{\"style\":\"light\"},\"paper_bgcolor\":\"white\",\"plot_bgcolor\":\"#E5ECF6\",\"polar\":{\"angularaxis\":{\"gridcolor\":\"white\",\"linecolor\":\"white\",\"ticks\":\"\"},\"bgcolor\":\"#E5ECF6\",\"radialaxis\":{\"gridcolor\":\"white\",\"linecolor\":\"white\",\"ticks\":\"\"}},\"scene\":{\"xaxis\":{\"backgroundcolor\":\"#E5ECF6\",\"gridcolor\":\"white\",\"gridwidth\":2,\"linecolor\":\"white\",\"showbackground\":true,\"ticks\":\"\",\"zerolinecolor\":\"white\"},\"yaxis\":{\"backgroundcolor\":\"#E5ECF6\",\"gridcolor\":\"white\",\"gridwidth\":2,\"linecolor\":\"white\",\"showbackground\":true,\"ticks\":\"\",\"zerolinecolor\":\"white\"},\"zaxis\":{\"backgroundcolor\":\"#E5ECF6\",\"gridcolor\":\"white\",\"gridwidth\":2,\"linecolor\":\"white\",\"showbackground\":true,\"ticks\":\"\",\"zerolinecolor\":\"white\"}},\"shapedefaults\":{\"line\":{\"color\":\"#2a3f5f\"}},\"ternary\":{\"aaxis\":{\"gridcolor\":\"white\",\"linecolor\":\"white\",\"ticks\":\"\"},\"baxis\":{\"gridcolor\":\"white\",\"linecolor\":\"white\",\"ticks\":\"\"},\"bgcolor\":\"#E5ECF6\",\"caxis\":{\"gridcolor\":\"white\",\"linecolor\":\"white\",\"ticks\":\"\"}},\"title\":{\"x\":0.05},\"xaxis\":{\"automargin\":true,\"gridcolor\":\"white\",\"linecolor\":\"white\",\"ticks\":\"\",\"title\":{\"standoff\":15},\"zerolinecolor\":\"white\",\"zerolinewidth\":2},\"yaxis\":{\"automargin\":true,\"gridcolor\":\"white\",\"linecolor\":\"white\",\"ticks\":\"\",\"title\":{\"standoff\":15},\"zerolinecolor\":\"white\",\"zerolinewidth\":2}}},\"xaxis\":{\"anchor\":\"y\",\"domain\":[0.0,1.0],\"title\":{\"text\":\"index\"}},\"yaxis\":{\"anchor\":\"x\",\"domain\":[0.0,1.0],\"title\":{\"text\":\"value\"}},\"legend\":{\"title\":{\"text\":\"variable\"},\"tracegroupgap\":0},\"title\":{\"text\":\"Somat\\u00f3rio\"}},                        {\"responsive\": true}                    ).then(function(){\n",
              "                            \n",
              "var gd = document.getElementById('6eb6aa42-e5ca-4576-9452-ce1f9aecc2f5');\n",
              "var x = new MutationObserver(function (mutations, observer) {{\n",
              "        var display = window.getComputedStyle(gd).display;\n",
              "        if (!display || display === 'none') {{\n",
              "            console.log([gd, 'removed!']);\n",
              "            Plotly.purge(gd);\n",
              "            observer.disconnect();\n",
              "        }}\n",
              "}});\n",
              "\n",
              "// Listen for the removal of the full notebook cells\n",
              "var notebookContainer = gd.closest('#notebook-container');\n",
              "if (notebookContainer) {{\n",
              "    x.observe(notebookContainer, {childList: true});\n",
              "}}\n",
              "\n",
              "// Listen for the clearing of the current output cell\n",
              "var outputEl = gd.closest('.output');\n",
              "if (outputEl) {{\n",
              "    x.observe(outputEl, {childList: true});\n",
              "}}\n",
              "\n",
              "                        })                };                            </script>        </div>\n",
              "</body>\n",
              "</html>"
            ]
          },
          "metadata": {},
          "output_type": "display_data"
        }
      ],
      "source": [
        "import numpy as np\n",
        "import plotly.express as px\n",
        "array_a_axis_y = np.loadtxt(\"soma_a.txt\",dtype=np.float64, delimiter= ';')\n",
        "array_b_axis_y = np.loadtxt(\"soma_b.txt\",dtype=np.float64, delimiter= ';')\n",
        "array_c_axis_y = np.loadtxt(\"soma_c.txt\",dtype=np.float64, delimiter= ';')\n",
        "\n",
        "\n",
        "array_abc_axis_y = np.vstack((array_a_axis_y,array_b_axis_y,array_c_axis_y))\n",
        "print(array_abc_axis_y)\n",
        "array_abc_axis_y = array_abc_axis_y.transpose()\n",
        "print(array_abc_axis_y)\n",
        "fig = px.line(array_abc_axis_y, labels= \"teste\",title=\"Somatório\")\n",
        "fig.show()"
      ]
    },
    {
      "attachments": {},
      "cell_type": "markdown",
      "metadata": {
        "id": "UBN39JYZ_QvN"
      },
      "source": [
        "# **PLOTLY - 5º Utilizando plotly.graph_objects**\n"
      ]
    },
    {
      "cell_type": "code",
      "execution_count": 9,
      "metadata": {
        "colab": {
          "base_uri": "https://localhost:8080/",
          "height": 542
        },
        "id": "c6OgyvHS_cdv",
        "outputId": "8e3dd221-6b53-4ce3-d31f-4cc4f6de706b"
      },
      "outputs": [
        {
          "ename": "ModuleNotFoundError",
          "evalue": "No module named 'plotly'",
          "output_type": "error",
          "traceback": [
            "\u001b[1;31m---------------------------------------------------------------------------\u001b[0m",
            "\u001b[1;31mModuleNotFoundError\u001b[0m                       Traceback (most recent call last)",
            "Cell \u001b[1;32mIn[9], line 2\u001b[0m\n\u001b[0;32m      1\u001b[0m \u001b[39mimport\u001b[39;00m \u001b[39mnumpy\u001b[39;00m \u001b[39mas\u001b[39;00m \u001b[39mnp\u001b[39;00m\n\u001b[1;32m----> 2\u001b[0m \u001b[39mimport\u001b[39;00m \u001b[39mplotly\u001b[39;00m\u001b[39m.\u001b[39;00m\u001b[39mgraph_objects\u001b[39;00m \u001b[39mas\u001b[39;00m \u001b[39mgo\u001b[39;00m\n\u001b[0;32m      3\u001b[0m array_a_axis_y \u001b[39m=\u001b[39m np\u001b[39m.\u001b[39mloadtxt(\u001b[39m\"\u001b[39m\u001b[39msoma_a.txt\u001b[39m\u001b[39m\"\u001b[39m,dtype\u001b[39m=\u001b[39mnp\u001b[39m.\u001b[39mfloat64, delimiter\u001b[39m=\u001b[39m \u001b[39m'\u001b[39m\u001b[39m;\u001b[39m\u001b[39m'\u001b[39m)\n\u001b[0;32m      4\u001b[0m array_b_axis_y \u001b[39m=\u001b[39m np\u001b[39m.\u001b[39mloadtxt(\u001b[39m\"\u001b[39m\u001b[39msoma_b.txt\u001b[39m\u001b[39m\"\u001b[39m,dtype\u001b[39m=\u001b[39mnp\u001b[39m.\u001b[39mfloat64, delimiter\u001b[39m=\u001b[39m \u001b[39m'\u001b[39m\u001b[39m;\u001b[39m\u001b[39m'\u001b[39m)\n",
            "\u001b[1;31mModuleNotFoundError\u001b[0m: No module named 'plotly'"
          ]
        }
      ],
      "source": [
        "import numpy as np\n",
        "import plotly.graph_objects as go\n",
        "array_a_axis_y = np.loadtxt(\"soma_a.txt\",dtype=np.float64, delimiter= ';')\n",
        "array_b_axis_y = np.loadtxt(\"soma_b.txt\",dtype=np.float64, delimiter= ';')\n",
        "array_c_axis_y = np.loadtxt(\"soma_c.txt\",dtype=np.float64, delimiter= ';')\n",
        "\n",
        "array_axis_x = np.arange(1,array_a_axis_y.size)\n",
        "fig = go.Figure()\n",
        "fig.add_trace(go.Scatter(x= array_axis_x, y= array_a_axis_y,mode='lines', name='Série de 3/4'))\n",
        "fig.add_trace(go.Scatter(x= array_axis_x, y= array_b_axis_y,mode='markers', name='Série de 2/4'))\n",
        "fig.add_trace(go.Scatter(x= array_axis_x, y= array_c_axis_y,mode='markers+lines', name='Série de 1/4'))\n",
        "fig.update_layout(title = \"Somatório de Series com frações\",\n",
        "                  xaxis_title = \"termos\",\n",
        "                  yaxis_title = \"valor\")\n",
        "fig.show()"
      ]
    }
  ],
  "metadata": {
    "colab": {
      "collapsed_sections": [
        "7wlXoAX8Js75",
        "PFSK4lR-IG9e",
        "hk3dpWHIUO40",
        "Ljrsnga_Imk3",
        "xINLRrWtX8Wy",
        "NUErRWufuH29",
        "wCFN2QmcdW4D"
      ],
      "name": "Aula Prática 01 - Linguagem de Programação em Python.ipynb",
      "provenance": [],
      "toc_visible": true
    },
    "kernelspec": {
      "display_name": "Python 3",
      "name": "python3"
    },
    "language_info": {
      "codemirror_mode": {
        "name": "ipython",
        "version": 3
      },
      "file_extension": ".py",
      "mimetype": "text/x-python",
      "name": "python",
      "nbconvert_exporter": "python",
      "pygments_lexer": "ipython3",
      "version": "3.11.2"
    }
  },
  "nbformat": 4,
  "nbformat_minor": 0
}
