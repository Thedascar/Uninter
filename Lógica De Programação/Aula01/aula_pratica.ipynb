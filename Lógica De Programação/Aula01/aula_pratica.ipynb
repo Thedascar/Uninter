{
 "cells": [
  {
   "cell_type": "code",
   "execution_count": 5,
   "metadata": {},
   "outputs": [],
   "source": [
    "import numpy as np"
   ]
  },
  {
   "cell_type": "code",
   "execution_count": 6,
   "metadata": {},
   "outputs": [
    {
     "name": "stdout",
     "output_type": "stream",
     "text": [
      "99999999\n"
     ]
    }
   ],
   "source": [
    "num_elementos = 100000000\n",
    "##lista_elementos = []\n",
    "##for x in range(num_elemtos):\n",
    "   ## lista_elementos.append(x)   \n",
    "##print(lista_elementos[-1])\n",
    "\n",
    "array_elementos = np.arange(num_elementos)\n",
    "print(array_elementos[-1])"
   ]
  },
  {
   "cell_type": "code",
   "execution_count": 56,
   "metadata": {},
   "outputs": [
    {
     "name": "stdout",
     "output_type": "stream",
     "text": [
      "criação de array: [ 0  1  2  3  4  5  6  7  8  9 10]\n",
      "criação de array: [1. 1. 1. 1. 1. 1. 1. 1. 1. 1.]\n",
      "criação de array: [0. 0. 0. 0. 0. 0. 0. 0. 0. 0.]\n",
      "criação de array: [7.74860419e-304 7.74860419e-304 7.74860419e-304 7.74860419e-304\n",
      " 7.74860419e-304]\n",
      "criação de array: [ 0  1  2  3  4  5  6  7  8  9 10 11 12 13 14]\n",
      "criação de array: [ 0.  1.  2.  3.  4.  5.  6.  7.  8.  9. 10. 11. 12. 13. 14. 15. 16. 17.\n",
      " 18. 19. 20. 21. 22. 23. 24. 25. 26. 27. 28. 29. 30. 31. 32. 33. 34. 35.\n",
      " 36. 37. 38. 39. 40.]\n"
     ]
    }
   ],
   "source": [
    "array_teste = np.array([0,1,2,3,4,5,6,7,8,9,10])\n",
    "print(f'criação de array: {array_teste}')\n",
    "print(f'criação de array: {np.ones([10])}')\n",
    "print(f'criação de array: {np.zeros([10])}')\n",
    "print(f'criação de array: {np.empty([5])}')\n",
    "print(f'criação de array: {np.arange(15)}')\n",
    "print(f'criação de array: {np.linspace(0,40, num = 41)}')\n"
   ]
  },
  {
   "cell_type": "code",
   "execution_count": 65,
   "metadata": {},
   "outputs": [],
   "source": [
    "num_elementos = 1000000000\n",
    "array_performance = np.zeros(num_elementos,dtype= np.int32)"
   ]
  },
  {
   "cell_type": "code",
   "execution_count": 156,
   "metadata": {},
   "outputs": [
    {
     "name": "stdout",
     "output_type": "stream",
     "text": [
      "[1. 0. 1. 1. 1. 0. 0. 1. 1. 1.]\n"
     ]
    }
   ],
   "source": [
    "num_rand = np.random.default_rng()\n",
    "print((num_rand.random(10) * 2) // 1)"
   ]
  },
  {
   "cell_type": "code",
   "execution_count": 160,
   "metadata": {},
   "outputs": [
    {
     "name": "stdout",
     "output_type": "stream",
     "text": [
      "Array de vetor: [0.39434953 0.57219798 0.92242068 0.45916072]\n",
      "Array de matriz: [[0.35245986 0.33952437 0.03482838 0.13802513]\n",
      " [0.89863752 0.30060623 0.80177399 0.4067385 ]\n",
      " [0.54262097 0.13536293 0.04897031 0.48997512]\n",
      " [0.15437719 0.09427219 0.53668654 0.94169321]]\n",
      "Array de tensor: [[[0.15182135 0.86431249 0.09631138 0.58347291]\n",
      "  [0.08227168 0.04126558 0.01816066 0.39230974]\n",
      "  [0.90445936 0.17410559 0.76229446 0.70375246]\n",
      "  [0.84567312 0.4658986  0.06657159 0.51879217]]\n",
      "\n",
      " [[0.63494886 0.36641327 0.13723324 0.74251117]\n",
      "  [0.35294709 0.4414474  0.7085625  0.67220272]\n",
      "  [0.39627791 0.53710841 0.30018283 0.69084254]\n",
      "  [0.25528989 0.84518657 0.64659964 0.98170573]]\n",
      "\n",
      " [[0.48123034 0.36343861 0.41503269 0.67769233]\n",
      "  [0.87457917 0.77305047 0.02417674 0.93832658]\n",
      "  [0.29042739 0.86999825 0.39452798 0.95996992]\n",
      "  [0.09039741 0.2587414  0.86858535 0.018816  ]]\n",
      "\n",
      " [[0.27557496 0.78371589 0.46131233 0.21959958]\n",
      "  [0.74826068 0.07530171 0.12920518 0.12767077]\n",
      "  [0.88267966 0.80488073 0.0532458  0.2375532 ]\n",
      "  [0.52368814 0.32728223 0.81096369 0.04536822]]]\n"
     ]
    }
   ],
   "source": [
    "num_rand2 = np.random.default_rng()\n",
    "vetor = num_rand2.random(4)\n",
    "\n",
    "print(f'Array de vetor: {vetor}')\n",
    "\n",
    "matriz = num_rand2.random([4,4])\n",
    "print(f'Array de matriz: {matriz}')\n",
    "\n",
    "tensor = num_rand2.random([4,4,4])\n",
    "print(f'Array de tensor: {tensor}')"
   ]
  },
  {
   "cell_type": "code",
   "execution_count": null,
   "metadata": {},
   "outputs": [],
   "source": []
  },
  {
   "cell_type": "code",
   "execution_count": null,
   "metadata": {},
   "outputs": [],
   "source": []
  }
 ],
 "metadata": {
  "kernelspec": {
   "display_name": "Python 3",
   "language": "python",
   "name": "python3"
  },
  "language_info": {
   "codemirror_mode": {
    "name": "ipython",
    "version": 3
   },
   "file_extension": ".py",
   "mimetype": "text/x-python",
   "name": "python",
   "nbconvert_exporter": "python",
   "pygments_lexer": "ipython3",
   "version": "3.11.2"
  },
  "orig_nbformat": 4
 },
 "nbformat": 4,
 "nbformat_minor": 2
}
