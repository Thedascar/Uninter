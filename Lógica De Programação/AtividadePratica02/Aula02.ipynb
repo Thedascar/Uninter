{
 "cells": [
  {
   "cell_type": "code",
   "execution_count": 1,
   "metadata": {},
   "outputs": [
    {
     "data": {
      "text/plain": [
       "5"
      ]
     },
     "execution_count": 1,
     "metadata": {},
     "output_type": "execute_result"
    }
   ],
   "source": [
    "import matplotlib.pyplot as mt\n",
    "def equacao():\n",
    "    a = 1\n",
    "    b = 1\n",
    "    c = 5\n",
    "    x1 = 2\n",
    "    x2 = 8\n",
    "    x3 = 4\n",
    "    y = (a * x1 + b * x2) - c\n",
    "    return y\n",
    "\n",
    "equacao()"
   ]
  }
 ],
 "metadata": {
  "kernelspec": {
   "display_name": "Python 3",
   "language": "python",
   "name": "python3"
  },
  "language_info": {
   "codemirror_mode": {
    "name": "ipython",
    "version": 3
   },
   "file_extension": ".py",
   "mimetype": "text/x-python",
   "name": "python",
   "nbconvert_exporter": "python",
   "pygments_lexer": "ipython3",
   "version": "3.11.4"
  },
  "orig_nbformat": 4
 },
 "nbformat": 4,
 "nbformat_minor": 2
}
