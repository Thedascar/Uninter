{
  "cells": [
    {
      "attachments": {},
      "cell_type": "markdown",
      "metadata": {
        "id": "_3NfN9tECJxs"
      },
      "source": [
        "#Aula prática de análise de dados com Pandas\n",
        "\n",
        "---\n",
        "\n"
      ]
    },
    {
      "attachments": {},
      "cell_type": "markdown",
      "metadata": {
        "id": "CvCQC4BNCK5M"
      },
      "source": [
        "### Importanto bibliotecas "
      ]
    },
    {
      "cell_type": "code",
      "execution_count": 5,
      "metadata": {
        "id": "eZaFzNALArpS"
      },
      "outputs": [
        {
          "ename": "ModuleNotFoundError",
          "evalue": "No module named 'google'",
          "output_type": "error",
          "traceback": [
            "\u001b[1;31m---------------------------------------------------------------------------\u001b[0m",
            "\u001b[1;31mModuleNotFoundError\u001b[0m                       Traceback (most recent call last)",
            "Cell \u001b[1;32mIn[5], line 2\u001b[0m\n\u001b[0;32m      1\u001b[0m \u001b[39mimport\u001b[39;00m \u001b[39mpandas\u001b[39;00m \u001b[39mas\u001b[39;00m \u001b[39mpd\u001b[39;00m\n\u001b[1;32m----> 2\u001b[0m \u001b[39mfrom\u001b[39;00m \u001b[39mgoogle\u001b[39;00m\u001b[39m.\u001b[39;00m\u001b[39mcolab\u001b[39;00m \u001b[39mimport\u001b[39;00m drive,files\n\u001b[0;32m      3\u001b[0m \u001b[39mfrom\u001b[39;00m \u001b[39mpandas_profiling\u001b[39;00m \u001b[39mimport\u001b[39;00m ProfileReport\n",
            "\u001b[1;31mModuleNotFoundError\u001b[0m: No module named 'google'"
          ]
        }
      ],
      "source": [
        "import pandas as pd\n",
        "from google.colab import drive,files\n",
        "from pandas_profiling import ProfileReport"
      ]
    },
    {
      "attachments": {},
      "cell_type": "markdown",
      "metadata": {
        "id": "-IhKypTdCRrX"
      },
      "source": [
        "### Importanto o arquivo"
      ]
    },
    {
      "cell_type": "code",
      "execution_count": null,
      "metadata": {
        "colab": {
          "base_uri": "https://localhost:8080/"
        },
        "id": "g9eD7cAxCSjZ",
        "outputId": "e9d42ffb-76ca-41cf-d2b4-ec9fcdb5d66c"
      },
      "outputs": [
        {
          "ename": "NameError",
          "evalue": "name 'drive' is not defined",
          "output_type": "error",
          "traceback": [
            "\u001b[1;31m---------------------------------------------------------------------------\u001b[0m",
            "\u001b[1;31mNameError\u001b[0m                                 Traceback (most recent call last)",
            "Cell \u001b[1;32mIn[3], line 1\u001b[0m\n\u001b[1;32m----> 1\u001b[0m drive\u001b[39m.\u001b[39mmount(\u001b[39m'\u001b[39m\u001b[39m/content/drive\u001b[39m\u001b[39m'\u001b[39m)\n\u001b[0;32m      2\u001b[0m df \u001b[39m=\u001b[39m pd\u001b[39m.\u001b[39mread_csv(\u001b[39m'\u001b[39m\u001b[39m/content/drive/MyDrive/TrabalhoDocencia/UNINTER/combustivel2021.csv\u001b[39m\u001b[39m'\u001b[39m, sep\u001b[39m=\u001b[39m\u001b[39m'\u001b[39m\u001b[39m;\u001b[39m\u001b[39m'\u001b[39m,encoding\u001b[39m=\u001b[39m\u001b[39m'\u001b[39m\u001b[39mISO-8859-1\u001b[39m\u001b[39m'\u001b[39m)\n\u001b[0;32m      3\u001b[0m \u001b[39m#uploaded = files.upload()\u001b[39;00m\n",
            "\u001b[1;31mNameError\u001b[0m: name 'drive' is not defined"
          ]
        }
      ],
      "source": [
        "drive.mount('/content/drive')\n",
        "df = pd.read_csv('/content/drive/MyDrive/TrabalhoDocencia/UNINTER/combustivel2021.csv', sep=';',encoding='ISO-8859-1')\n",
        "#uploaded = files.upload()"
      ]
    },
    {
      "attachments": {},
      "cell_type": "markdown",
      "metadata": {
        "id": "WB3oqtmADN2u"
      },
      "source": [
        "### Dataframe - Preço de combustível no Brasil 2021"
      ]
    },
    {
      "attachments": {},
      "cell_type": "markdown",
      "metadata": {
        "id": "UPHQJYiBDS1u"
      },
      "source": [
        "Link dos dados: https://dados.gov.br/dataset/serie-historica-de-precos-de-combustiveis-por-revenda"
      ]
    },
    {
      "cell_type": "code",
      "execution_count": null,
      "metadata": {
        "id": "PS2wPqQHEqYh"
      },
      "outputs": [],
      "source": [
        "df.head()"
      ]
    },
    {
      "cell_type": "code",
      "execution_count": null,
      "metadata": {
        "id": "bjOJMNGrFFDX"
      },
      "outputs": [],
      "source": [
        "df.columns.values"
      ]
    },
    {
      "cell_type": "code",
      "execution_count": null,
      "metadata": {
        "id": "JLIIYEHBGTbH"
      },
      "outputs": [],
      "source": [
        "dfColunas = ['Estado - Sigla', 'Municipio', 'Revenda',\n",
        "        'Produto', 'Data da Coleta', 'Valor de Venda']"
      ]
    },
    {
      "cell_type": "code",
      "execution_count": null,
      "metadata": {
        "id": "0DxYMMEOGfSQ"
      },
      "outputs": [],
      "source": [
        "dfFiltrado = df.filter(items=dfColunas)\n",
        "dfFiltrado = dfFiltrado.rename(columns={'Estado - Sigla':'Estado'})"
      ]
    },
    {
      "cell_type": "code",
      "execution_count": null,
      "metadata": {
        "id": "sPP6tQijGz-e"
      },
      "outputs": [],
      "source": [
        "dfFiltrado"
      ]
    },
    {
      "attachments": {},
      "cell_type": "markdown",
      "metadata": {
        "id": "0_h1apg5GR8r"
      },
      "source": [
        "### Quantidade de entradas por estado"
      ]
    },
    {
      "cell_type": "code",
      "execution_count": null,
      "metadata": {
        "id": "_OtoMr2GH8qe"
      },
      "outputs": [],
      "source": [
        "colunaEstados = dfFiltrado['Estado']"
      ]
    },
    {
      "cell_type": "code",
      "execution_count": null,
      "metadata": {
        "id": "pqVlCgmgIw_p"
      },
      "outputs": [],
      "source": [
        "colunaEstados = colunaEstados.value_counts()\n",
        "colunaEstados"
      ]
    },
    {
      "attachments": {},
      "cell_type": "markdown",
      "metadata": {
        "id": "5Fvad2W6GX6e"
      },
      "source": [
        "### Percentual por estado"
      ]
    },
    {
      "cell_type": "code",
      "execution_count": null,
      "metadata": {
        "id": "lKxYedjUX08_"
      },
      "outputs": [],
      "source": [
        "pEstados = [100*x/colunaEstados.sum() for x in colunaEstados]\n",
        "pEstados"
      ]
    },
    {
      "attachments": {},
      "cell_type": "markdown",
      "metadata": {
        "id": "1ky7lXvQKL-S"
      },
      "source": [
        "### Filtrando somente por Gasolina"
      ]
    },
    {
      "cell_type": "code",
      "execution_count": null,
      "metadata": {
        "id": "QL8XrxNsKPqS"
      },
      "outputs": [],
      "source": [
        "dfColunas = ['Estado', 'Produto', 'Valor de Venda']\n",
        "dfGasolina = dfFiltrado.filter(items=dfColunas)\n",
        "dfGasolina = dfGasolina.loc[dfGasolina['Produto'] == 'GASOLINA']\n",
        "dfGasolina"
      ]
    },
    {
      "attachments": {},
      "cell_type": "markdown",
      "metadata": {
        "id": "2jfk4jz4L1Zn"
      },
      "source": [
        "### Agrupando por preço de gasolina\n"
      ]
    },
    {
      "cell_type": "code",
      "execution_count": null,
      "metadata": {
        "id": "RrvgmU7mMSUa"
      },
      "outputs": [],
      "source": [
        "dfGasolina['Valor de Venda'] = dfGasolina['Valor de Venda'].str.replace(',','.')\n",
        "dfGasolina = dfGasolina.astype({'Valor de Venda': 'float32'})\n",
        "dfGasolina = dfGasolina.groupby('Estado').mean()\n",
        "dfGasolina"
      ]
    },
    {
      "attachments": {},
      "cell_type": "markdown",
      "metadata": {
        "id": "pT1UlTDe7SMY"
      },
      "source": [
        "### Dois tipos de gasolina - regex"
      ]
    },
    {
      "cell_type": "code",
      "execution_count": null,
      "metadata": {
        "id": "xxhscTX77WLf"
      },
      "outputs": [],
      "source": [
        "dfColunas = ['Estado', 'Produto', 'Valor de Venda']\n",
        "dfGasolina2 = dfFiltrado.filter(items=dfColunas)\n",
        "regex = '^GASOLINA'\n",
        "dfGasolina2 = dfGasolina2.loc[dfGasolina2['Produto'].str.contains(regex, regex=True)]\n",
        "dfGasolina2"
      ]
    },
    {
      "attachments": {},
      "cell_type": "markdown",
      "metadata": {
        "id": "1tin7pdZ8Es7"
      },
      "source": [
        "### Agrupando por tipo de gasolina no Brasil inteiro "
      ]
    },
    {
      "cell_type": "code",
      "execution_count": null,
      "metadata": {
        "id": "X-OI6o1V8M8B"
      },
      "outputs": [],
      "source": [
        "dfGasolina2['Valor de Venda'] = dfGasolina2['Valor de Venda'].str.replace(',','.')\n",
        "dfGasolina2 = dfGasolina2.astype({'Valor de Venda': 'float32'})\n",
        "dfGasolina2 = dfGasolina2.groupby('Produto').mean()\n",
        "dfGasolina2"
      ]
    },
    {
      "attachments": {},
      "cell_type": "markdown",
      "metadata": {
        "id": "ufA5pSLp5-ah"
      },
      "source": [
        "### Pandas Profiling"
      ]
    },
    {
      "cell_type": "code",
      "execution_count": null,
      "metadata": {
        "id": "HXZC82tZ6Y2S"
      },
      "outputs": [],
      "source": [
        "pip install https://github.com/ydataai/pandas-profiling/archive/master.zip"
      ]
    },
    {
      "cell_type": "code",
      "execution_count": null,
      "metadata": {
        "id": "fFOLXxRe6r_2"
      },
      "outputs": [
        {
          "ename": "NameError",
          "evalue": "name 'ProfileReport' is not defined",
          "output_type": "error",
          "traceback": [
            "\u001b[1;31m---------------------------------------------------------------------------\u001b[0m",
            "\u001b[1;31mNameError\u001b[0m                                 Traceback (most recent call last)",
            "Cell \u001b[1;32mIn[2], line 1\u001b[0m\n\u001b[1;32m----> 1\u001b[0m profile \u001b[39m=\u001b[39m ProfileReport(dfFiltrado)\n\u001b[0;32m      2\u001b[0m profile\u001b[39m.\u001b[39mto_notebook_iframe()\n\u001b[0;32m      3\u001b[0m profile\u001b[39m.\u001b[39mto_file(\u001b[39m'\u001b[39m\u001b[39msaida.html\u001b[39m\u001b[39m'\u001b[39m)\n",
            "\u001b[1;31mNameError\u001b[0m: name 'ProfileReport' is not defined"
          ]
        }
      ],
      "source": [
        "profile = ProfileReport(dfFiltrado)\n",
        "profile.to_notebook_iframe()\n",
        "profile.to_file('saida.html')"
      ]
    }
  ],
  "metadata": {
    "colab": {
      "provenance": []
    },
    "kernelspec": {
      "display_name": "Python 3",
      "name": "python3"
    },
    "language_info": {
      "codemirror_mode": {
        "name": "ipython",
        "version": 3
      },
      "file_extension": ".py",
      "mimetype": "text/x-python",
      "name": "python",
      "nbconvert_exporter": "python",
      "pygments_lexer": "ipython3",
      "version": "3.11.2"
    }
  },
  "nbformat": 4,
  "nbformat_minor": 0
}
